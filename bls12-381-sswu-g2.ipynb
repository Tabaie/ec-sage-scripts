{
 "cells": [
  {
   "cell_type": "code",
   "execution_count": 1,
   "id": "5ce347c3",
   "metadata": {},
   "outputs": [],
   "source": [
    "rz = IntegerRing()\n",
    "def to_mont(a):\n",
    "    return a * 2^384\n",
    "\n",
    "def to_words(a):\n",
    "    word = rz(2^64)\n",
    "    aI = rz(a)\n",
    "    res = []\n",
    "    \n",
    "    for i in range(6):\n",
    "        lsw = aI % word\n",
    "        res.append(lsw)\n",
    "        aI -= lsw\n",
    "        aI /= word\n",
    "    \n",
    "    if aI == 0:\n",
    "        return res\n",
    "    raise RuntimeError('to_words didn\\'t work properly')\n",
    "\n",
    "\n",
    "def to_mont_words(a):\n",
    "    aMont = to_mont(a)\n",
    "    return to_words(aMont)\n",
    "\n",
    "def separate_terms(a):\n",
    "    aConj = a.conjugate()\n",
    "    return ( (a + aConj)/2, (a-aConj)/(2*I) )\n",
    "\n",
    "#from termcolor import cprint\n",
    "\n",
    "def print_values(line, names):\n",
    "    #cprint(\"After line \" + str(line), \"red\")\n",
    "    print(\"After line \" + str(line))\n",
    "    for name in names.split():\n",
    "        a = to_mont(globals()[name])\n",
    "        terms = separate_terms(a)\n",
    "        print(name, '=', to_words(terms[0]), '+', to_words(terms[1]), '* I\\n')"
   ]
  },
  {
   "cell_type": "code",
   "execution_count": 2,
   "id": "a9cf199b",
   "metadata": {},
   "outputs": [],
   "source": [
    "p = rz(0x1a0111ea397fe69a4b1ba7b6434bacd764774b84f38512bf6730d2a0f6b0f6241eabfffeb153ffffb9feffffffffaaab)\n",
    "k = GF(0x1a0111ea397fe69a4b1ba7b6434bacd764774b84f38512bf6730d2a0f6b0f6241eabfffeb153ffffb9feffffffffaaab, 'I')\n",
    "q = p ^ 2\n",
    "Z = -(2+I)\n",
    "A = 240*I\n",
    "B = 1012*(1+I)"
   ]
  },
  {
   "cell_type": "code",
   "execution_count": null,
   "id": "c8e2a631",
   "metadata": {},
   "outputs": [],
   "source": [
    "if q % 4 == 3 or q % 8 == 5:\n",
    "    raise RuntimeError(\"Use an optimized routine\")\n",
    "\n",
    "qP = q - 1\n",
    "c1 = 0\n",
    "while qP % 2 == 0 and c1 < 10:\n",
    "    print(qP)\n",
    "    c1+= 1\n",
    "    qP /= 2\n",
    "c2 = (q - 1) / (2^c1)        # Integer arithmetic\n",
    "c3 = (c2 - 1) / 2            # Integer arithmetic\n",
    "c4 = 2^c1 - 1                # Integer arithmetic\n",
    "c5 = 2^(c1 - 1)              # Integer arithmetic\n",
    "c6 = Z^rz(c2)\n",
    "c7 = Z^((c2 + 1) / 2)"
   ]
  },
  {
   "cell_type": "code",
   "execution_count": null,
   "id": "0cc7f01b",
   "metadata": {
    "scrolled": false
   },
   "outputs": [],
   "source": [
    "\"hi\""
   ]
  },
  {
   "cell_type": "code",
   "execution_count": null,
   "id": "1a03f966",
   "metadata": {},
   "outputs": [],
   "source": [
    "i1 = separate_terms(to_mont(I))[1]"
   ]
  },
  {
   "cell_type": "code",
   "execution_count": null,
   "id": "c6cba072",
   "metadata": {},
   "outputs": [],
   "source": [
    "word = rz(2^64)\n",
    "aI = rz(a)\n",
    "print(aI)\n",
    "res = []\n",
    "for i in range(6):\n",
    "    lsw = aI % word\n",
    "    print(type(aI),aI,'#',type(word), word, '#',type(lsw), lsw, '\\n')\n",
    "    res.append(lsw)\n",
    "    aI -= lsw\n",
    "    aI /= word\n",
    "aI"
   ]
  },
  {
   "cell_type": "code",
   "execution_count": null,
   "id": "7ee3f417",
   "metadata": {},
   "outputs": [],
   "source": []
  }
 ],
 "metadata": {
  "kernelspec": {
   "display_name": "SageMath 9.4",
   "language": "sage",
   "name": "sagemath"
  },
  "language_info": {
   "codemirror_mode": {
    "name": "ipython",
    "version": 3
   },
   "file_extension": ".py",
   "mimetype": "text/x-python",
   "name": "python",
   "nbconvert_exporter": "python",
   "pygments_lexer": "ipython3",
   "version": "3.9.7"
  }
 },
 "nbformat": 4,
 "nbformat_minor": 5
}
