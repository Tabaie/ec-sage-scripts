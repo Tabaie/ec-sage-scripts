{
 "cells": [
  {
   "cell_type": "code",
   "execution_count": 1,
   "id": "0f815417",
   "metadata": {},
   "outputs": [],
   "source": [
    "rz = IntegerRing()\n",
    "\n",
    "def to_words(a):\n",
    "    word = rz(2^64)\n",
    "    aI = rz(a)\n",
    "    res = []\n",
    "    \n",
    "    i = 0\n",
    "    while i < 6 or aI != 0:\n",
    "        lsw = aI % word\n",
    "        res.append(lsw)\n",
    "        aI -= lsw\n",
    "        aI /= word\n",
    "        \n",
    "        i+= 1\n",
    "        \n",
    "        #watchdog thingy\n",
    "        if i == 20:\n",
    "            raise RuntimeError('to_words didn\\'t work properly')\n",
    "    \n",
    "    return res"
   ]
  },
  {
   "cell_type": "code",
   "execution_count": 2,
   "id": "2ebbb283",
   "metadata": {},
   "outputs": [],
   "source": [
    "p = rz(0x1a0111ea397fe69a4b1ba7b6434bacd764774b84f38512bf6730d2a0f6b0f6241eabfffeb153ffffb9feffffffffaaab)\n",
    "k = GF(0x1a0111ea397fe69a4b1ba7b6434bacd764774b84f38512bf6730d2a0f6b0f6241eabfffeb153ffffb9feffffffffaaab, 'I')\n",
    "q = p ^ 2\n",
    "Z = -(2+I)\n",
    "A = 240*I\n",
    "B = 1012*(1+I)"
   ]
  },
  {
   "cell_type": "code",
   "execution_count": 3,
   "id": "6ade4374",
   "metadata": {},
   "outputs": [],
   "source": [
    "if q % 4 == 3 or q % 8 == 5:\n",
    "    raise RuntimeError(\"Use an optimized routine\")\n",
    "    \n",
    "qP = rz(q - 1)\n",
    "c1 = 0\n",
    "while qP % 2 == 0:\n",
    "    c1+= 1\n",
    "    qP /= 2\n",
    "    \n",
    "c2 = (q - 1) / (2^c1)        # Integer arithmetic\n",
    "c3 = (c2 - 1) / 2            # Integer arithmetic\n",
    "c4 = 2^c1 - 1                # Integer arithmetic\n",
    "c5 = 2^(c1 - 1)              # Integer arithmetic\n",
    "c6 = Z^rz(c2)\n",
    "c7 = Z^rz((c2 + 1) / 2)"
   ]
  },
  {
   "cell_type": "code",
   "execution_count": null,
   "id": "99fcf084",
   "metadata": {},
   "outputs": [],
   "source": [
    "c6 = Z^rz(c2)"
   ]
  },
  {
   "cell_type": "code",
   "execution_count": 21,
   "id": "8bd58289",
   "metadata": {},
   "outputs": [
    {
     "data": {
      "text/plain": [
       "2002410280966213176492968580539871577211890012416319082482798067123247093561419642925082009912774178746869298192521341316387985567463363242025025302629554476386626629283976594752050996187041457677317627959721862496428249186185671"
      ]
     },
     "execution_count": 21,
     "metadata": {},
     "output_type": "execute_result"
    }
   ],
   "source": [
    "c2"
   ]
  },
  {
   "cell_type": "code",
   "execution_count": 10,
   "id": "895200d9",
   "metadata": {},
   "outputs": [
    {
     "data": {
      "text/plain": [
       "24"
      ]
     },
     "execution_count": 10,
     "metadata": {},
     "output_type": "execute_result"
    }
   ],
   "source": [
    "rz(q-1) % 2^5"
   ]
  },
  {
   "cell_type": "code",
   "execution_count": null,
   "id": "ffcbf115",
   "metadata": {},
   "outputs": [],
   "source": []
  }
 ],
 "metadata": {
  "kernelspec": {
   "display_name": "SageMath 9.4",
   "language": "sage",
   "name": "sagemath"
  },
  "language_info": {
   "codemirror_mode": {
    "name": "ipython",
    "version": 3
   },
   "file_extension": ".py",
   "mimetype": "text/x-python",
   "name": "python",
   "nbconvert_exporter": "python",
   "pygments_lexer": "ipython3",
   "version": "3.9.7"
  }
 },
 "nbformat": 4,
 "nbformat_minor": 5
}
